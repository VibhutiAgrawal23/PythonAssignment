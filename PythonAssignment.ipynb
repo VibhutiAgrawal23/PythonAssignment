{
 "cells": [
  {
   "cell_type": "markdown",
   "metadata": {},
   "source": [
    "<h3>Answer 1</h3>"
   ]
  },
  {
   "cell_type": "code",
   "execution_count": 1,
   "metadata": {},
   "outputs": [
    {
     "name": "stdout",
     "output_type": "stream",
     "text": [
      "Enter String:Madam\n",
      "String is pallindrome\n"
     ]
    }
   ],
   "source": [
    "input_str = input(\"Enter String:\")\n",
    "rev_str = input_str[::-1]\n",
    "if input_str.lower()==rev_str.lower():\n",
    "    print(\"String is pallindrome\")\n",
    "else:\n",
    "    print(\"String is not pallindrome\")"
   ]
  },
  {
   "cell_type": "markdown",
   "metadata": {},
   "source": [
    "<h3>Answer 2</h3>"
   ]
  },
  {
   "cell_type": "code",
   "execution_count": 3,
   "metadata": {},
   "outputs": [],
   "source": [
    "#Checking prime Number\n",
    "def isPrimeNum(n):\n",
    "    i=2\n",
    "    while i<n:\n",
    "        if n%i==0:\n",
    "            return False\n",
    "        i+=1\n",
    "    return True"
   ]
  },
  {
   "cell_type": "code",
   "execution_count": 4,
   "metadata": {},
   "outputs": [],
   "source": [
    "#Checking Happy Number\n",
    "def isHappyNum(n):\n",
    "    l=[]\n",
    "    while n!=1:\n",
    "        n = sum(int(i)**2 for i in str(n))\n",
    "        if n in l:\n",
    "            return False\n",
    "        l.append(n)\n",
    "    return True"
   ]
  },
  {
   "cell_type": "code",
   "execution_count": 6,
   "metadata": {},
   "outputs": [],
   "source": [
    "#Creating Prime File\n",
    "with open('primeFile.txt','w') as primeFile:\n",
    "    for i in range(2,1001):\n",
    "        if isPrimeNum(i):\n",
    "            primeFile.write('{}\\n'.format(str(i)))"
   ]
  },
  {
   "cell_type": "code",
   "execution_count": 7,
   "metadata": {},
   "outputs": [],
   "source": [
    "#Creating Happy File\n",
    "with open('happyFile.txt','w') as happyFile:\n",
    "    for i in range(1,1001):\n",
    "        if isHappyNum(i):\n",
    "          happyFile.write('{}\\n'.format(str(i)))"
   ]
  },
  {
   "cell_type": "code",
   "execution_count": 8,
   "metadata": {},
   "outputs": [],
   "source": [
    "#Creating Overlapping File\n",
    "primeNum = set(open('primeFile.txt','r').read().split())\n",
    "happyNum = set(open('happyFile.txt','r').read().split())\n",
    "happyPrimeNum = list(map(int,primeNum.intersection(happyNum)))\n",
    "happyPrimeNum.sort()\n",
    "with open('Overlapping.txt','w') as overlappingFile:\n",
    "    for ele in happyPrimeNum:\n",
    "        overlappingFile.write('{}\\n'.format(str(ele)))"
   ]
  },
  {
   "cell_type": "markdown",
   "metadata": {},
   "source": [
    "<h3>Answer 3</h3>"
   ]
  },
  {
   "cell_type": "code",
   "execution_count": 9,
   "metadata": {},
   "outputs": [
    {
     "name": "stdout",
     "output_type": "stream",
     "text": [
      "Enter Input String:Vibhuti\n",
      "Viti\n"
     ]
    }
   ],
   "source": [
    "inputStr = str(input(\"Enter Input String:\"))\n",
    "if len(inputStr)>=2:\n",
    "    print(inputStr[:2]+inputStr[-2:])\n",
    "else:\n",
    "    print('')"
   ]
  },
  {
   "cell_type": "markdown",
   "metadata": {},
   "source": [
    "<h3>Answer 4</h3>"
   ]
  },
  {
   "cell_type": "code",
   "execution_count": 10,
   "metadata": {},
   "outputs": [
    {
     "name": "stdout",
     "output_type": "stream",
     "text": [
      "1 3 1 4 2 1 56 10 23\n",
      "[1, 2, 3, 4, 10, 23, 56]\n"
     ]
    }
   ],
   "source": [
    "inputList = map(int,input().split())\n",
    "print(list(set(inputList)))"
   ]
  },
  {
   "cell_type": "markdown",
   "metadata": {},
   "source": [
    "<h3>Answer 5</h3>"
   ]
  },
  {
   "cell_type": "code",
   "execution_count": 11,
   "metadata": {},
   "outputs": [
    {
     "name": "stdout",
     "output_type": "stream",
     "text": [
      "* \n",
      "* * \n",
      "* * * \n",
      "* * * * \n",
      "* * * * * \n",
      "* * * * \n",
      "* * * \n",
      "* * \n",
      "* \n"
     ]
    }
   ],
   "source": [
    "#Using nested loop\n",
    "for i in range(1,6):\n",
    "    for j in range(0,i):\n",
    "        print('* ',end='')\n",
    "    print()\n",
    "for i in range(1,5):\n",
    "    for j in range(5,i,-1):\n",
    "        print('* ',end='')\n",
    "    print()"
   ]
  },
  {
   "cell_type": "code",
   "execution_count": 12,
   "metadata": {},
   "outputs": [
    {
     "name": "stdout",
     "output_type": "stream",
     "text": [
      "* \n",
      "* * \n",
      "* * * \n",
      "* * * * \n",
      "* * * * * \n",
      "* * * * \n",
      "* * * \n",
      "* * \n",
      "* \n"
     ]
    }
   ],
   "source": [
    "#Alternate method\n",
    "for i in range(1,6):\n",
    "    print('* '*i)\n",
    "for i in range(4,0,-1):\n",
    "    print('* '*i)"
   ]
  },
  {
   "cell_type": "markdown",
   "metadata": {},
   "source": [
    "<h3>Answer 5 (Password Validity)</h3>"
   ]
  },
  {
   "cell_type": "code",
   "execution_count": 13,
   "metadata": {},
   "outputs": [
    {
     "name": "stdout",
     "output_type": "stream",
     "text": [
      "Enter Password:Vibhuti67#Agr@\n",
      "Valid Password!\n"
     ]
    }
   ],
   "source": [
    "inputPass = input(\"Enter Password:\")\n",
    "upper = False\n",
    "lower = False\n",
    "symbol = False\n",
    "digit = False\n",
    "if len(inputPass)<6 or len(inputPass)>16:\n",
    "    print(\"Invalid Password\")\n",
    "else:\n",
    "    for i in inputPass:\n",
    "        if (i.isupper()):\n",
    "            upper =  True\n",
    "        if (i.islower()):\n",
    "            lower = True\n",
    "        if (i.isdigit()):\n",
    "            digit = True\n",
    "        if i=='$' or i=='@' or i=='#':\n",
    "            symbol = True\n",
    "    if upper and lower and digit and symbol:\n",
    "        print(\"Valid Password!\")\n",
    "    else:\n",
    "        print(\"Invalid Password!\")"
   ]
  },
  {
   "cell_type": "markdown",
   "metadata": {},
   "source": [
    "<h3>Answer 6(Output)</h3>"
   ]
  },
  {
   "cell_type": "markdown",
   "metadata": {},
   "source": [
    "a is local variable<br>\n",
    "called my len() function: 14<br>\n",
    "6<br>\n",
    "a is global<br>\n",
    "<hr>\n",
    "<b>Reason:</b>\n",
    "Nonlocal keyword is used to define that the variable is not local declared hence a will have the value of it parent function outer() so we get final value of a in outer() function as local variable.<br>\n",
    "Outside the outer() function we have value of variable as global.\n"
   ]
  },
  {
   "cell_type": "markdown",
   "metadata": {},
   "source": [
    "<h3>Answer 7(Output)</h3>"
   ]
  },
  {
   "cell_type": "markdown",
   "metadata": {},
   "source": [
    "4<br>\n",
    "<hr>\n",
    "<b>Reason:</b>Here the loop runs for the three times and intial value of counter is 1 so it sums up to give final result as 4"
   ]
  },
  {
   "cell_type": "markdown",
   "metadata": {},
   "source": [
    "<h3>Answer 8</h3>"
   ]
  },
  {
   "cell_type": "code",
   "execution_count": 2,
   "metadata": {},
   "outputs": [],
   "source": [
    "import sys\n",
    "def stringSearch(filePath,searchedString):\n",
    "    lineNum = 0\n",
    "    res=[]\n",
    "    with open(filePath,'r') as file:\n",
    "        for line in file:\n",
    "            lineNum+=1\n",
    "            if searchedString.casefold() in line.casefold():\n",
    "                res.append((lineNum,line.rstrip()))\n",
    "    return res\n",
    "string = sys.argv[1]\n",
    "filepath = sys.argv[2]\n",
    "for i in stringSearch(filepath,string):\n",
    "    print(i)"
   ]
  },
  {
   "cell_type": "markdown",
   "metadata": {},
   "source": [
    "<h3>Answer 9 </h3>"
   ]
  },
  {
   "cell_type": "markdown",
   "metadata": {},
   "source": [
    "Dictionary keys must be of immutable datatype so valid datatypes for keys in dictionaries are:\n",
    "<ul>\n",
    "    <li>Strings</li>\n",
    "    <li>Tuples</li>\n",
    "    <li>Integer</li>\n",
    "    <li>Float</li>    \n",
    "</ul>\n",
    "Immutable datatypes which are invalid as a key for the dictionaries are:\n",
    "<ul>\n",
    "    <li>Dictionary</li>\n",
    "    <li>Lists</li>\n",
    "</ul>"
   ]
  },
  {
   "cell_type": "markdown",
   "metadata": {},
   "source": [
    "<h3>Answer 10(Output) </h3>"
   ]
  },
  {
   "cell_type": "markdown",
   "metadata": {},
   "source": [
    "[0, 1]<br>\n",
    "[3, 2, 1, 0, 1, 4]<br>\n",
    "[0, 1, 0, 1, 4]<br>\n",
    "<hr>\n",
    "<b>Reason:</b>Here l=[] is the list, when we don't pass any argument then it will be preserving the old value and will refer to the same object. So on calling f(2) for l=[] it is the empty list but when we call for f(3) then the list from f(2) is preserved."
   ]
  },
  {
   "cell_type": "markdown",
   "metadata": {},
   "source": [
    "<h3>Answer 11(Output) </h3>"
   ]
  },
  {
   "cell_type": "markdown",
   "metadata": {},
   "source": [
    "l0:{'a': 1, 'b': 2, 'c': 3, 'd': 4, 'e': 5}<br>\n",
    "l1:range(0, 10)<br>\n",
    "l2:[]<br>\n",
    "l3:[1, 2, 3, 4, 5]<br>\n",
    "l4:[1, 2, 3, 4, 5]<br>\n",
    "l5:{0: 0, 1: 1, 2: 4, 3: 9, 4: 16, 5: 25, 6: 36, 7: 49, 8: 64, 9: 81}<br>\n",
    "l6:[[0, 0], [1, 1], [2, 4], [3, 9], [4, 16], [5, 25], [6, 36], [7, 49], [8, 64], [9, 81]]<br>\n",
    "<hr>\n",
    "<b>Reason:</b>here, zip() function will make the pair and dict() makes them into dictionary, when statement i in dictionary is exectued then it will be checking for the keys in the dictionary.\n"
   ]
  },
  {
   "cell_type": "markdown",
   "metadata": {},
   "source": [
    "<h3>Answer 12(Output) </h3>"
   ]
  },
  {
   "cell_type": "markdown",
   "metadata": {},
   "source": [
    "list1 = [1, 100]<br>\n",
    "\n",
    "<b>Reason:</b><br>\n",
    "Here when we dont pass any list then for the first call it takes empty list but then for further calls it takes the list as per the previous call. Since we have updated the value in the previous call "
   ]
  }
 ],
 "metadata": {
  "kernelspec": {
   "display_name": "Python 3",
   "language": "python",
   "name": "python3"
  },
  "language_info": {
   "codemirror_mode": {
    "name": "ipython",
    "version": 3
   },
   "file_extension": ".py",
   "mimetype": "text/x-python",
   "name": "python",
   "nbconvert_exporter": "python",
   "pygments_lexer": "ipython3",
   "version": "3.8.3"
  }
 },
 "nbformat": 4,
 "nbformat_minor": 4
}
